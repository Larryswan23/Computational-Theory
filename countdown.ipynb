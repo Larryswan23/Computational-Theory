{
 "cells": [
  {
   "cell_type": "markdown",
   "id": "05083cbc",
   "metadata": {},
   "source": [
    "# Countdown Numbers Game\n"
   ]
  },
  {
   "cell_type": "markdown",
   "id": "f343c1d5",
   "metadata": {},
   "source": [
    "In this assessment we have been tasked to analyse and solve the numbers round of the TV programme Countdown.\n",
    "This game presents a unique challenge that combines arithmetic skills with strategy. \n",
    "In the numbers game, the main objective is for players to employ addition, subtraction, multiplication, and division to get from a set of six randomly chosen numbers to a target number.\n"
   ]
  },
  {
   "cell_type": "markdown",
   "id": "aad29e9c",
   "metadata": {},
   "source": [
    "# How the game is set up"
   ]
  },
  {
   "cell_type": "markdown",
   "id": "db1cb33f",
   "metadata": {},
   "source": [
    "Number Selection: Two sets of tiles are used to select the six numbers. The numbers 1 through 10 are in one group and appear twice each, while the larger numbers (generally 25, 50, 75, and 100) are in the other group and appear once each. An individual competing selects the ratio of large to small numbers, which can range from six small to zero large numbers, or from four large to two small, or any other combination in between.\n"
   ]
  },
  {
   "cell_type": "markdown",
   "id": "4ada2b83",
   "metadata": {},
   "source": [
    "Target Number: Following the selection of the numbers, a computer will produce a target number at random for the players to attempt to reach. Any three-digit number between 101 and 999 can be used as this number.\n"
   ]
  },
  {
   "cell_type": "markdown",
   "id": "59ad63e3",
   "metadata": {},
   "source": [
    "Time Limit: Using the six selected numbers, contestants have 30 seconds to get as near as they can to the desired number. It's not necessary to utilize all six of the numbers; each can be used only once. "
   ]
  },
  {
   "cell_type": "markdown",
   "id": "0c7a532e",
   "metadata": {},
   "source": [
    "# Rules for Calculation"
   ]
  },
  {
   "cell_type": "markdown",
   "id": "37aff7a2",
   "metadata": {},
   "source": [
    "Operations: Only the four basic arithmetic operations can be used.\n",
    "\n",
    "No repetition: Each of the six numbers can be used no more than once in the calculation, but the results of operations can be used in subsequent operations.\n",
    "\n",
    "Integer Results: All divisions must result in whole numbers. This rule ensures that the calculations stay within the realm of basic arithmetic.\n",
    "\n",
    "Combination of Numbers: While it's not necessary to use all six numbers, effective use of the available numbers increases the chance of reaching or getting closer to the target number."
   ]
  },
  {
   "cell_type": "markdown",
   "id": "ad2b6f50",
   "metadata": {},
   "source": [
    "\n",
    "# Reseach "
   ]
  },
  {
   "cell_type": "markdown",
   "id": "6be211b9",
   "metadata": {},
   "source": [
    "After some brief research into how the game is played the most successful players often utilize these strategies when looking at it from a basic level.\n",
    "\n",
    "Prioritizing the use of large numbers when the target number is high.\n",
    "\n",
    "Starting with operations that yield numbers closest to the target number.\n",
    "\n",
    "Using subtraction or addition to fine-tune the result as they get closer to the target."
   ]
  },
  {
   "cell_type": "code",
   "execution_count": null,
   "id": "894388c3",
   "metadata": {},
   "outputs": [],
   "source": []
  },
  {
   "cell_type": "code",
   "execution_count": null,
   "id": "c595bc00",
   "metadata": {},
   "outputs": [],
   "source": []
  }
 ],
 "metadata": {
  "kernelspec": {
   "display_name": "Python 3 (ipykernel)",
   "language": "python",
   "name": "python3"
  },
  "language_info": {
   "codemirror_mode": {
    "name": "ipython",
    "version": 3
   },
   "file_extension": ".py",
   "mimetype": "text/x-python",
   "name": "python",
   "nbconvert_exporter": "python",
   "pygments_lexer": "ipython3",
   "version": "3.11.4"
  }
 },
 "nbformat": 4,
 "nbformat_minor": 5
}
