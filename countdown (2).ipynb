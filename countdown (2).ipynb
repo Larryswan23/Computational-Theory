{
 "cells": [
  {
   "cell_type": "markdown",
   "id": "05083cbc",
   "metadata": {},
   "source": [
    "# Countdown Numbers Game\n"
   ]
  },
  {
   "cell_type": "markdown",
   "id": "f343c1d5",
   "metadata": {},
   "source": [
    "The Countdown Numbers Game is a fascinating segment of the popular British television game show \"Countdown,\" known for its blend of arithmetic skills and strategic thinking. Here, we explore the structure, rules, and strategies of the numbers round in detail.\n",
    "\n",
    "### Game Setup\n",
    "\n",
    "#### Number Selection:\n",
    "At the beginning of each numbers round, contestants face two sets of tiles from which they must select six numbers. The selection process includes two categories:\n",
    "\n",
    "#### Small Numbers: \n",
    "Comprising two sets of the digits 1 through 10. This means each digit from 1 to 10 appears twice among the small number tiles.\n",
    "#### Large Numbers: \n",
    "Typically consisting of the numbers 25, 50, 75, and 100, each appearing only once.\n",
    "A contestant chooses the composition of these six numbers by deciding on a mix of large and small numbers. The selection can vary from all six numbers being small (0 large) to four large numbers and two small ones. Other combinations in between these extremes are also allowed, offering varying levels of difficulty and strategic depth.\n",
    "\n",
    "#### Target Number:\n",
    "Once the numbers are chosen, the game's objective becomes clear through the generation of a target number. This is done automatically by the show's computer system, which randomly produces a three-digit number ranging from 101 to 999. Contestants aim to use their selected numbers to reach or come as close as possible to this target number.\n",
    "\n",
    "#### Time Limit:\n",
    "Contestants are given a strict 30-second time frame to calculate a sequence of operations that will bring them closest to the target number. During this period, rapid calculation and strategic foresight are crucial.\n",
    "\n",
    "#### Rules of the Game\n",
    "Operations Allowed: Players may use addition (+), subtraction (-), multiplication (×), and division (÷) to combine the chosen numbers into calculations aimed at reaching the target number.\n",
    "Number Usage: Each of the six selected numbers can be used once only in the attempt to reach the target. It's not mandatory to use all six numbers, but no number can be used more than once.\n",
    "Result Constraints: Only positive integers can be produced through the calculations; any operation that leads to fractions or negative results is not permissible.\n",
    "Scoring\n",
    "The scoring in the Countdown Numbers Game is straightforward:\n",
    "\n",
    "Exact Match: If a contestant reaches the exact target number, they score 10 points.\n",
    "Close Match: If no exact match is made, points can still be earned by coming close to the target. Typically, the contestant whose result is closest to the target scores the points.\n",
    "No Points: Failing to come within a reasonable range of the target results in no points.\n",
    "Strategic Play\n",
    "Success in the numbers game often relies not just on mathematical ability but also on strategic choice of numbers and operations:\n",
    "\n",
    "Choosing Numbers: A common strategy involves selecting at least one large number to enable large leaps toward the target number. However, more large numbers increase the complexity of reaching an exact solution, especially if the target number is low.\n",
    "Operational Choices: Experienced players often plan their approach by considering the order of operations and potential combinations that can pivot around key numbers like 50 or 100.\n",
    "Backup Plans: Since the first approach to solving might not always pan out within the 30-second limit, seasoned contestants usually start with a flexible strategy that allows them to pivot to alternative calculations quickly.\n",
    "Challenges and Appeal\n",
    "The Numbers Game is celebrated for its blend of intellectual challenge and suspense, making it a highlight of \"Countdown.\" Players and viewers alike enjoy the mental gymnastics required to quickly formulate mathematical solutions under time pressure. The game not only tests arithmetic skills but also demands quick strategic thinking and adaptability, appealing to a broad audience fascinated by puzzles and number games.\n"
   ]
  },
  {
   "cell_type": "markdown",
   "id": "0c7a532e",
   "metadata": {},
   "source": [
    "# Rules for Calculation"
   ]
  },
  {
   "cell_type": "markdown",
   "id": "37aff7a2",
   "metadata": {},
   "source": [
    "Operations: Only the four basic arithmetic operations can be used.\n",
    "\n",
    "No repetition: Each of the six numbers can be used no more than once in the calculation, but the results of operations can be used in subsequent operations.\n",
    "\n",
    "Integer Results: All divisions must result in whole numbers. This rule ensures that the calculations stay within the realm of basic arithmetic.\n",
    "\n",
    "Combination of Numbers: While it's not necessary to use all six numbers, effective use of the available numbers increases the chance of reaching or getting closer to the target number."
   ]
  },
  {
   "cell_type": "markdown",
   "id": "0e54d691",
   "metadata": {},
   "source": [
    "# Analysis of the Computational Complexity of the Countdown Numbers Game\n",
    "The computational complexity of the Countdown Numbers Game is an intriguing subject due to the blend of combinatorial and arithmetic operations required to approach an optimal or near-optimal solution. To understand the complexity, it's essential to break down the components involved in generating and solving these types of problems.\n",
    "\n",
    "Problem Formulation\n",
    "In the Countdown Numbers Game, a player must use a set of six chosen numbers with basic arithmetic operations (addition, subtraction, multiplication, division) to reach a randomly generated three-digit target number. The complexity arises from several factors:\n",
    "\n",
    "Selection of Numbers: The choice between using zero to four large numbers (from 25, 50, 75, 100) and filling the rest with small numbers (1 through 10, each appearing twice) offers multiple combinations for the initial set of numbers.\n",
    "Permissible Operations: Each number can be used exactly once in the calculations, and only positive integers are permissible as intermediate and final results.\n",
    "Combination of Operations: Multiple arithmetic operations can be combined in various ways to approach or reach the target number.\n",
    "Combinatorial Complexity\n",
    "The first layer of complexity is combinatorial. Given six numbers, the number of possible sequences to check follows a factorial pattern, specifically \n",
    "6\n",
    "!\n",
    "6! (6 factorial), which results in 720 sequences. However, when you consider the operations between each number, the complexity increases significantly.\n",
    "\n",
    "Operations Between Numbers: For each pair of numbers in a sequence, any of four operations can be applied (if applicable, based on maintaining positive integers and avoiding fractions). Therefore, if there are five operations to be performed in each sequence, there are \n",
    "4\n",
    "5\n",
    "4 \n",
    "5\n",
    "  (1,024) combinations of operations per sequence.\n",
    "Total Combinatorial Complexity: Combining both the sequences of numbers and the operations, the total number of possibilities is \n",
    "6\n",
    "!\n",
    "×\n",
    "4\n",
    "5\n",
    "6!×4 \n",
    "5\n",
    " , which equals 720 × 1,024 = 737,280 potential ways to arrange and operate on the numbers.\n",
    "Search Space and Solution Strategy\n",
    "Given this vast search space, finding the exact or closest solution within a 30-second time limit is non-trivial, especially without computer assistance. Humans typically use heuristics and pattern recognition rather than exhaustive computation:\n",
    "\n",
    "Heuristics: Players might prioritize certain operations (like multiplication or addition with large numbers) when the target is very high, or lean more on subtraction and division for lower targets.\n",
    "Pattern Recognition: Frequent players often recognize combinations and strategies that frequently yield close approximations to target numbers.\n",
    "Algorithmic Complexity\n",
    "From an algorithmic perspective, designing a computer program to solve this game efficiently involves strategies akin to those used in operations research and artificial intelligence:\n",
    "\n",
    "Depth-first Search with Pruning: Algorithms can explore potential operations depth-first but terminate paths early (\"prune\") when they obviously can't reach the target (like when the current result exceeds the target significantly).\n",
    "Dynamic Programming: This approach could be used to store intermediate results and reuse them, although the non-repetitive use of numbers adds complexity.\n",
    "Genetic Algorithms: These could evolve solutions over iterations, gradually approaching a set of operations that solve or nearly solve the problem.\n",
    "Conclusion\n",
    "The computational complexity of the Countdown Numbers Game makes it an excellent challenge both for human players and for algorithmic analysis. While the factorial growth of possibilities suggests a brute-force solution is computationally expensive, the practical approach to the game—both in human and algorithmic play—is guided by heuristics, educated guesses, and adaptive strategies rather than exhaustive calculation. This blend of strategic thinking and mathematical prowess is what gives the Countdown Numbers Game its enduring appeal."
   ]
  },
  {
   "cell_type": "markdown",
   "id": "ad2b6f50",
   "metadata": {},
   "source": [
    "\n",
    "# Reseach "
   ]
  },
  {
   "cell_type": "markdown",
   "id": "6be211b9",
   "metadata": {},
   "source": [
    "After some brief research into how the game is played the most successful players often utilize these strategies when looking at it from a basic level.\n",
    "\n",
    "Prioritizing the use of large numbers when the target number is high.\n",
    "\n",
    "Starting with operations that yield numbers closest to the target number.\n",
    "\n",
    "Using subtraction or addition to fine-tune the result as they get closer to the target."
   ]
  },
  {
   "cell_type": "markdown",
   "id": "19ddff86",
   "metadata": {},
   "source": [
    "# Integrating Concepts into the Countdown Numbers Game Solution\n",
    "The Countdown Numbers Game offers a unique platform for applying various computational concepts and strategies. This piece explores how three distinct ideas—Reverse Polish Notation, the Fibonacci sequence in different programming languages, and Greenspun's Tenth Rule—can be utilized to enhance the strategies for solving the game.\n",
    "\n",
    "\n",
    "\n",
    "### 1. Reverse Polish Notation (RPN)\n",
    "Concept Overview:\n",
    "Reverse Polish Notation is a mathematical notation where every operator follows all of its operands. It eliminates the need for parentheses that are required by infix notation. For example, the expression (3 + 4) * 5 is written as 3 4 + 5 * in RPN.\n",
    "\n",
    "Application in the Numbers Game:\n",
    "In the context of the Countdown Numbers Game, RPN can significantly streamline the calculation process. Here’s how:\n",
    "\n",
    "Clarity of Calculation: RPN provides a clear and linear representation of the sequence of operations, making it easier to follow and evaluate.\n",
    "Ease of Implementation: Implementing an RPN calculator requires a simple stack-based algorithm. This approach can help players or algorithms keep track of intermediate results efficiently and with minimal error.\n",
    "Speed of Execution: As players develop familiarity with RPN, they can calculate faster without the need to mentally manage hierarchical operations, which is crucial within the 30-second time limit.\n",
    "\n",
    "\n",
    "\n",
    "### 2. Fibonacci Sequence \n",
    "Concept Overview:\n",
    "The Fibonacci sequence is a series of numbers where each number is the sum of the two preceding ones, usually starting with 0 and 1. It’s a popular concept in both mathematics and computer science education, often used to teach recursive and iterative algorithm design.\n",
    "\n",
    "Application in the Numbers Game:\n",
    "While the Fibonacci sequence itself does not directly apply to solving number combinations in the Countdown game, the programming techniques used to generate it can be beneficial.\n",
    "\n",
    "Algorithmic Thinking: \n",
    "Implementing the Fibonacci sequence in various programming languages (like Python, JavaScript, or C++) trains one in both recursive and iterative logic. This skill is directly applicable to developing efficient algorithms for generating and testing number combinations in the game.\n",
    "Multilingual Flexibility: Understanding how different languages handle recursion and iteration can inspire the development of a more flexible and efficient solution strategy for the game, possibly adapting the best approach from each language’s strengths.\n",
    "\n",
    "\n",
    "\n",
    "\n",
    "\n",
    "\n",
    "### 3. Greenspun's Tenth Rule\n",
    "Concept Overview:\n",
    "Greenspun's Tenth Rule states that any sufficiently complicated C or Fortran program contains an ad hoc, informally-specified, bug-ridden, slow implementation of half of Common Lisp. This aphorism highlights the complexity and potential redundancy in software projects that could be simplified with more powerful abstractions or languages.\n",
    "\n",
    "Application in the Numbers Game:\n",
    "Applying Greenspun's Tenth Rule to the Numbers Game involves recognizing the potential over-complications in developing a solution algorithm.\n",
    "\n",
    "Simplification and Efficiency: The rule encourages looking for simpler, more elegant solutions, potentially by using Lisp-like abstractions or other functional programming concepts which can handle list and number manipulations more succinctly.\n",
    "Avoiding Over-engineering: By acknowledging Greenspun's rule, developers and players might avoid creating overly complex algorithms for the game, instead focusing on straightforward, robust, and efficient solutions.\n",
    "Conclusion\n",
    "Integrating Reverse Polish Notation, programming techniques from implementing the Fibonacci sequence, and the wisdom of Greenspun's Tenth Rule can provide a multifaceted approach to tackling the Countdown Numbers Game. These concepts encourage clarity, efficiency, and simplicity, aiding both manual and algorithmic solutions in navigating the game's inherent complexity effectively."
   ]
  },
  {
   "cell_type": "markdown",
   "id": "a6b24f46",
   "metadata": {},
   "source": [
    "# My Approach to solving the game\n",
    "The solution is built around a recursive backtracking algorithm. This method is well-suited for problems where a solution involves a sequence of choices made from a range of options and where certain choices can be ruled out if they lead nowhere (i.e., they don't ultimately solve the problem).\n",
    "\n",
    "### Key Components of the Approach:\n",
    "\n",
    "\n",
    "#### Recursive Function (search):\n",
    "The core of the solution is a recursive function that tries to combine the current set of numbers using the four arithmetic operations. It explores each possible combination of two numbers with an operation and then recursively attempts to solve the problem with the resulting number replacing the two original numbers.\n",
    "If at any step the number of elements reduces to one and it matches the target, the solution is found and the path to that solution is recorded.\n",
    "\n",
    "\n",
    "#### Valid Operations Check:\n",
    "To ensure valid operations, checks are incorporated:\n",
    "Division: Only proceed if the denominator is non-zero and the division results in an integer.\n",
    "Subtraction: Only proceed if the result is non-negative.\n",
    "These checks are crucial for avoiding unnecessary computation and ensuring solutions adhere to the game rules.\n",
    "\n",
    "#### Permutations of Numbers:\n",
    "Before initiating the recursive search, permutations of the initial set of numbers are considered. This step ensures that the algorithm explores different sequences of operations and combinations, which can potentially lead to the target number.\n",
    "\n",
    "\n",
    "#### Efficiency Considerations:\n",
    "The approach tries every possible operation between any two numbers and then recursively processes the result. Although this method can be computationally expensive due to the factorial growth of permutations and combinations, it is thorough.\n",
    "For large sets or difficult targets, this approach might be slow, which suggests potential for optimization, such as using memoization to store intermediate results and avoid recalculating them.\n",
    "\n",
    "#### History Tracking:\n",
    "Each recursive call is accompanied by a history of operations performed, which not only helps in backtracking but also provides insight into how a particular solution is reached. This history is valuable for debugging and for understanding the solution pathway.\n",
    "\n",
    " #### Output and Presentation:\n",
    "The solution traces the entire path to the target, detailing each arithmetic operation performed, including intermediate results. This trace is helpful not only for validating the solution but also for educational purposes, allowing users to see how the solution unfolds step-by-step.\n",
    "\n",
    "#### Conclusion:\n",
    "The recursive backtracking method, combined with careful operation checks and permutations, provides a powerful albeit computationally intense approach to solving the Countdown numbers game. While the current solution is effective in finding answers, it highlights the inherent complexity and potential areas for optimization in dealing with such combinatorially challenging problems."
   ]
  },
  {
   "cell_type": "code",
   "execution_count": 7,
   "id": "c595bc00",
   "metadata": {},
   "outputs": [
    {
     "name": "stdout",
     "output_type": "stream",
     "text": [
      "(75 * 3) = 225\n",
      "(100 + 6) = 106\n",
      "((100 + 6) * (75 * 3)) = 23850\n",
      "(((100 + 6) * (75 * 3)) - 50) = 23800\n",
      "((((100 + 6) * (75 * 3)) - 50) / 25) = 952.0\n",
      "Result: ((((100 + 6) * (75 * 3)) - 50) / 25) = 952.0\n"
     ]
    }
   ],
   "source": [
    "from itertools import permutations\n",
    "import operator\n",
    "\n",
    "def solve_numbers(numbers, target):\n",
    "    ops = [operator.add, operator.sub, operator.mul, operator.truediv]\n",
    "    ops_symbols = {operator.add: '+', operator.sub: '-', operator.mul: '*', operator.truediv: '/'}\n",
    "\n",
    "    # Function to check if the operation results in a valid number\n",
    "    def valid_operation(n1, n2, op):\n",
    "        if op == operator.truediv and (n2 == 0 or n1 % n2 != 0):\n",
    "            return False\n",
    "        if op == operator.sub and n1 < n2:\n",
    "            return False\n",
    "        return True\n",
    "\n",
    "    # Recursive function to try all combinations\n",
    "    def search(current, history):\n",
    "        if len(current) == 1 and current[0][0] == target:\n",
    "            return history + [f\"Result: {current[0][1]} = {current[0][0]}\"]\n",
    "        for i in range(len(current)):\n",
    "            for j in range(len(current)):\n",
    "                if i != j:\n",
    "                    for op in ops:\n",
    "                        if valid_operation(current[i][0], current[j][0], op):\n",
    "                            new_number = op(current[i][0], current[j][0])\n",
    "                            expression = f\"({current[i][1]} {ops_symbols[op]} {current[j][1]})\"\n",
    "                            new_history = history + [f\"{expression} = {new_number}\"]\n",
    "                            new_current = [(new_number, expression)] + [current[k] for k in range(len(current)) if k != i and k != j]\n",
    "                            result = search(new_current, new_history)\n",
    "                            if result:\n",
    "                                return result\n",
    "        return None\n",
    "\n",
    "    # Start with each number and its string representation\n",
    "    initial = [(num, str(num)) for num in numbers]\n",
    "    for perm in permutations(initial):\n",
    "        result = search(list(perm), [])\n",
    "        if result:\n",
    "            return result\n",
    "\n",
    "    return \"No solution found\"\n",
    "\n",
    "# Example usage\n",
    "numbers = [25, 50, 75, 100, 3, 6]\n",
    "target = 952\n",
    "solution = solve_numbers(numbers, target)\n",
    "if solution:\n",
    "    for step in solution:\n",
    "        print(step)\n",
    "else:\n",
    "    print(\"No solution could be found.\")"
   ]
  },
  {
   "cell_type": "code",
   "execution_count": 8,
   "id": "6d43788f",
   "metadata": {},
   "outputs": [
    {
     "name": "stdout",
     "output_type": "stream",
     "text": [
      "(25 + 50) = 75\n",
      "((25 + 50) / 3) = 25.0\n",
      "(((25 + 50) / 3) + 75) = 100.0\n",
      "((((25 + 50) / 3) + 75) * 6) = 600.0\n",
      "(((((25 + 50) / 3) + 75) * 6) + 100) = 700.0\n",
      "Result: (((((25 + 50) / 3) + 75) * 6) + 100) = 700.0\n"
     ]
    }
   ],
   "source": [
    "# Example usage 2\n",
    "numbers = [25, 50, 75, 100, 3, 6]\n",
    "target = 700\n",
    "solution = solve_numbers(numbers, target)\n",
    "if solution:\n",
    "    for step in solution:\n",
    "        print(step)\n",
    "else:\n",
    "    print(\"No solution could be found.\")"
   ]
  },
  {
   "cell_type": "code",
   "execution_count": 9,
   "id": "4adf9ca7",
   "metadata": {},
   "outputs": [
    {
     "name": "stdout",
     "output_type": "stream",
     "text": [
      "(25 - 3) = 22\n",
      "((25 - 3) * 75) = 1650\n",
      "(((25 - 3) * 75) / 50) = 33.0\n",
      "(100 * 6) = 600\n",
      "((100 * 6) - (((25 - 3) * 75) / 50)) = 567.0\n",
      "Result: ((100 * 6) - (((25 - 3) * 75) / 50)) = 567.0\n"
     ]
    }
   ],
   "source": [
    "# Example usage 3\n",
    "numbers = [25, 50, 75, 100, 3, 6]\n",
    "target = 567\n",
    "solution = solve_numbers(numbers, target)\n",
    "if solution:\n",
    "    for step in solution:\n",
    "        print(step)\n",
    "else:\n",
    "    print(\"No solution could be found.\")"
   ]
  },
  {
   "cell_type": "markdown",
   "id": "2b7bf5fd",
   "metadata": {},
   "source": [
    "# References\n",
    "\n",
    "Bruynooghe, M., 1981. Solving combinatorial search problems by intelligent backtracking. Information processing letters, 12(1), pp.36-39.\n",
    "\n",
    "Marques-Silva, J.P. and e Silva, L.G., 1999, October. Solving satisfiability in combinational circuits with backtrack search and recursive learning. In Proceedings. XII Symposium on Integrated Circuits and Systems Design (Cat. No. PR00387) (pp. 192-195). IEEE.\n",
    "\n",
    "Butler, G. and Lam, C.W.H., 1985. A general backtrack algorithm for the isomorphism problem of combinatorial objects. Journal of Symbolic Computation, 1(4), pp.363-381.\n",
    "\n",
    "Sleegers, J. and Berg, D.V.D., 2021. Backtracking (the) algorithms on the Hamiltonian cycle problem. arXiv preprint arXiv:2107.00314.\n",
    "\n",
    "Civicioglu, P., 2013. Backtracking search optimization algorithm for numerical optimization problems. Applied Mathematics and computation, 219(15), pp.8121-8144."
   ]
  }
 ],
 "metadata": {
  "kernelspec": {
   "display_name": "Python 3 (ipykernel)",
   "language": "python",
   "name": "python3"
  },
  "language_info": {
   "codemirror_mode": {
    "name": "ipython",
    "version": 3
   },
   "file_extension": ".py",
   "mimetype": "text/x-python",
   "name": "python",
   "nbconvert_exporter": "python",
   "pygments_lexer": "ipython3",
   "version": "3.11.4"
  }
 },
 "nbformat": 4,
 "nbformat_minor": 5
}
